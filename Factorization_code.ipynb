{
 "cells": [
  {
   "cell_type": "code",
   "execution_count": null,
   "id": "c97768dd-b49e-4667-9e24-d0f856132de1",
   "metadata": {
    "scrolled": true
   },
   "outputs": [],
   "source": [
    "import pennylane as qml\n",
    "import numpy as np\n",
    "import matplotlib.pyplot as plt\n",
    "\n",
    "# Taking user input for the number to be factorized\n",
    "N = int(input(\"Enter the bi-prime to factorize: \"))\n",
    "\n",
    "# Number of qubits to be given to the z-register\n",
    "n_float = np.log2(N)\n",
    "\n",
    "# n-float is converted to integer to initialize the registers\n",
    "if int(np.ceil(n_float)) == n_float: \n",
    "    n = int(np.ceil(n_float)) + 1 # if N is a power of 2\n",
    "else:\n",
    "    n = int(np.ceil(n_float)) # if N is not a power of 2\n",
    "\n",
    "z_register = [i for i in range(n)]\n",
    "\n",
    "# The algorithm is very sensitive to the number of qubits in the x and y registers. For n=3, at least 2 qubits per register are required.\n",
    "if n == 3:\n",
    "    x_register = [i for i in range(n, n+2)]\n",
    "    y_register = [i for i in range(n+2,n+4)]\n",
    "else:\n",
    "    x_register = [i for i in range(n, 2*n-2)]\n",
    "    y_register = [i for i in range(2*n-2,3*n-3)]\n",
    "\n",
    "\n",
    "# Creating the \"device\" on which all operations will take place\n",
    "dev = qml.device(\"default.qubit\", wires = x_register + y_register + z_register)\n",
    "n_wires = len(dev.wires)\n",
    "\n",
    "# This section defines functions which are used to carry out the \"classical\" multiplication of qubits, which is done using the quantum fourier transform\n",
    "def add_k_fourier(k, wires):\n",
    "    for j in range(len(wires)):\n",
    "        qml.RZ(k * np.pi / (2**j), wires=wires[j])\n",
    "\n",
    "def multiplication(x_register, y_register, z_register):\n",
    "    # Prepare sol-qubits to counting\n",
    "    qml.QFT(wires=z_register)\n",
    "\n",
    "    for i in range(len(y_register)):\n",
    "        for j in range(len(x_register)):\n",
    "            coeff = 2 ** (len(x_register) + len(y_register) - i - j - 2)\n",
    "            qml.ctrl(add_k_fourier, control=[y_register[i], x_register[j]])(coeff, z_register)\n",
    "\n",
    "    # Return to computational basis\n",
    "    qml.adjoint(qml.QFT)(wires=z_register)\n",
    "\n",
    "\n",
    "\n",
    "# Defining the number of iterations required for the probabilities of the factors to be amplified\n",
    "iterations = int(np.ceil((np.pi/4)*(np.sqrt(N))))-1\n",
    "\n",
    "# User is given a choice to either go with the pre-defined number of iterations or to define the iterations on their own\n",
    "user_choice = input(f\"Current number of iterations = {iterations}. Use User defined iterations? (Warning: Resulting factors may be incorrect due to overamplification) (y/n): \") # Overamplification can suppress the the probabilities of the actual factors\n",
    "\n",
    "if user_choice == \"y\":\n",
    "    iterations = int(input(\"Enter number of iterations: \"))\n",
    "elif user_choice == \"n\":\n",
    "    iterations = iterations\n",
    "else: \n",
    "     raise Exception(\"Choose either 'y' or 'n'\") \n",
    "\n",
    "# Here is where we define our factorization circuit\n",
    "@qml.qnode(dev)\n",
    "def factorization(N, x_register, y_register, z_register, iterations):\n",
    "    # Creating a superpostion of states with equal probabilities\n",
    "    for wire in x_register:\n",
    "        qml.Hadamard(wires=wire)\n",
    "\n",
    "    for wire in y_register:\n",
    "        qml.Hadamard(wires=wire)\n",
    "    #Finding the factors\n",
    "    for i in range(iterations):\n",
    "        \n",
    "        # Beginning of Oracle\n",
    "        multiplication(x_register, y_register, z_register) # Apply the multiplication\n",
    "\n",
    "        qml.FlipSign(N, wires=z_register) # Change sign of N\n",
    "        \n",
    "        qml.adjoint(multiplication)(x_register, y_register, z_register) # Uncompute multiplication\n",
    "        #End of Oracle\n",
    "        \n",
    "        # Apply Grover Diffusion operator\n",
    "        qml.GroverOperator(wires=x_register + y_register)\n",
    "\n",
    "    return qml.probs(x_register) # Returning probabilities "
   ]
  },
  {
   "cell_type": "code",
   "execution_count": null,
   "id": "dada2ae1-98ba-4a87-a42a-134fecfb3f9b",
   "metadata": {},
   "outputs": [],
   "source": [
    "# User is given the choice to draw the circuit\n",
    "draw = input(\"Draw the circuit? For very large N, the circuit may be too large to be drawn. : (y/n)\")"
   ]
  },
  {
   "cell_type": "code",
   "execution_count": null,
   "id": "d33e0e8e-d03c-424d-a1ca-40c966496484",
   "metadata": {
    "scrolled": true
   },
   "outputs": [],
   "source": [
    "if draw == \"y\":\n",
    "    qml.draw_mpl(factorization)(N, x_register, y_register, z_register, 1)\n",
    "    plt.show()\n",
    "elif draw != \"y\" and draw !=\"n\":\n",
    "    raise Exception(\"Choose either 'y' or 'n'\")\n"
   ]
  },
  {
   "cell_type": "code",
   "execution_count": null,
   "id": "653c8d78-e242-44f9-8ebf-cdcda92751b5",
   "metadata": {},
   "outputs": [],
   "source": [
    "# The np.argmax function returns the position of the element having the largest argument. These positions ARE the factors!\n",
    "p = np.argmax(factorization(N, x_register, y_register, z_register, iterations))\n",
    "q = np.argmax(factorization(N, y_register, x_register, z_register, iterations))\n",
    "\n",
    "# The if-else statement is to account for errors that may occur due to the size of the registers being too large \n",
    "if p >= q:\n",
    "    p = N//q\n",
    "else:\n",
    "    q = N//p\n",
    "\n",
    "# The factors are now printed\n",
    "print(f\"The factors of the {N} are {p} and {q}\")"
   ]
  },
  {
   "cell_type": "code",
   "execution_count": null,
   "id": "3abb9ab9-c417-4ec6-8374-5a422a804c4c",
   "metadata": {},
   "outputs": [],
   "source": []
  },
  {
   "cell_type": "code",
   "execution_count": null,
   "id": "c7741eb5-5f65-497b-a8dc-3e7d57398536",
   "metadata": {},
   "outputs": [],
   "source": []
  }
 ],
 "metadata": {
  "kernelspec": {
   "display_name": "Python 3 (ipykernel)",
   "language": "python",
   "name": "python3"
  },
  "language_info": {
   "codemirror_mode": {
    "name": "ipython",
    "version": 3
   },
   "file_extension": ".py",
   "mimetype": "text/x-python",
   "name": "python",
   "nbconvert_exporter": "python",
   "pygments_lexer": "ipython3",
   "version": "3.11.7"
  }
 },
 "nbformat": 4,
 "nbformat_minor": 5
}
